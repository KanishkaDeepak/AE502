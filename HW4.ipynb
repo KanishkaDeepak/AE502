{
  "nbformat": 4,
  "nbformat_minor": 0,
  "metadata": {
    "colab": {
      "provenance": []
    },
    "kernelspec": {
      "name": "python3",
      "display_name": "Python 3"
    },
    "language_info": {
      "name": "python"
    }
  },
  "cells": [
    {
      "cell_type": "code",
      "source": [
        "!pip install spiceypy\n",
        "!pip install skyfield"
      ],
      "metadata": {
        "colab": {
          "base_uri": "https://localhost:8080/"
        },
        "id": "OFNLVWSgkkeo",
        "outputId": "34a39e4a-c0c1-4be7-cea1-cf69d676e494"
      },
      "execution_count": 33,
      "outputs": [
        {
          "output_type": "stream",
          "name": "stdout",
          "text": [
            "Looking in indexes: https://pypi.org/simple, https://us-python.pkg.dev/colab-wheels/public/simple/\n",
            "Requirement already satisfied: spiceypy in /usr/local/lib/python3.10/dist-packages (5.1.2)\n",
            "Requirement already satisfied: numpy>=1.17.0 in /usr/local/lib/python3.10/dist-packages (from spiceypy) (1.22.4)\n",
            "Looking in indexes: https://pypi.org/simple, https://us-python.pkg.dev/colab-wheels/public/simple/\n",
            "Requirement already satisfied: skyfield in /usr/local/lib/python3.10/dist-packages (1.46)\n",
            "Requirement already satisfied: certifi>=2017.4.17 in /usr/local/lib/python3.10/dist-packages (from skyfield) (2022.12.7)\n",
            "Requirement already satisfied: jplephem>=2.13 in /usr/local/lib/python3.10/dist-packages (from skyfield) (2.18)\n",
            "Requirement already satisfied: numpy in /usr/local/lib/python3.10/dist-packages (from skyfield) (1.22.4)\n",
            "Requirement already satisfied: sgp4>=2.2 in /usr/local/lib/python3.10/dist-packages (from skyfield) (2.22)\n"
          ]
        }
      ]
    },
    {
      "cell_type": "code",
      "source": [
        "!pip install wget\n",
        "import wget\n",
        "wget.download('https://naif.jpl.nasa.gov/pub/naif/generic_kernels/lsk/naif0012.tls', 'naif0012.tls')\n",
        "wget.download('https://naif.jpl.nasa.gov/pub/naif/generic_kernels/pck/earth_latest_high_prec.bpc', 'earth_latest_high_prec.bpc')"
      ],
      "metadata": {
        "colab": {
          "base_uri": "https://localhost:8080/",
          "height": 70
        },
        "id": "APrZkKvslExR",
        "outputId": "071d61c6-262e-4521-bd1e-f5e2483f61cd"
      },
      "execution_count": 8,
      "outputs": [
        {
          "output_type": "stream",
          "name": "stdout",
          "text": [
            "Looking in indexes: https://pypi.org/simple, https://us-python.pkg.dev/colab-wheels/public/simple/\n",
            "Requirement already satisfied: wget in /usr/local/lib/python3.10/dist-packages (3.2)\n"
          ]
        },
        {
          "output_type": "execute_result",
          "data": {
            "text/plain": [
              "'earth_latest_high_prec (2).bpc'"
            ],
            "application/vnd.google.colaboratory.intrinsic+json": {
              "type": "string"
            }
          },
          "metadata": {},
          "execution_count": 8
        }
      ]
    },
    {
      "cell_type": "code",
      "source": [
        "!wget https://naif.jpl.nasa.gov/pub/naif/generic_kernels/pck/gm_de431.tpc\n"
      ],
      "metadata": {
        "colab": {
          "base_uri": "https://localhost:8080/"
        },
        "id": "U6bxAP8Dm7gP",
        "outputId": "4389acac-2c3e-4948-c05a-c2f56e455860"
      },
      "execution_count": 19,
      "outputs": [
        {
          "output_type": "stream",
          "name": "stdout",
          "text": [
            "--2023-05-13 01:13:42--  https://naif.jpl.nasa.gov/pub/naif/generic_kernels/pck/gm_de431.tpc\n",
            "Resolving naif.jpl.nasa.gov (naif.jpl.nasa.gov)... 137.78.232.95\n",
            "Connecting to naif.jpl.nasa.gov (naif.jpl.nasa.gov)|137.78.232.95|:443... connected.\n",
            "HTTP request sent, awaiting response... 200 OK\n",
            "Length: 6291 (6.1K)\n",
            "Saving to: ‘gm_de431.tpc’\n",
            "\n",
            "gm_de431.tpc        100%[===================>]   6.14K  --.-KB/s    in 0s      \n",
            "\n",
            "2023-05-13 01:13:43 (139 MB/s) - ‘gm_de431.tpc’ saved [6291/6291]\n",
            "\n"
          ]
        }
      ]
    },
    {
      "cell_type": "code",
      "source": [
        "import numpy as np\n",
        "import spiceypy as spice\n",
        "from scipy.optimize import least_squares\n",
        "from skyfield.api import Topos, load\n",
        "\n",
        "# Load SPICE kernels\n",
        "spice.furnsh('naif0012.tls')\n",
        "spice.furnsh('pck00010.tpc')\n",
        "spice.furnsh('gm_de431.tpc')\n",
        "\n",
        "\n",
        "\n",
        "# Constants\n",
        "R2D = 180.0 / np.pi\n",
        "D2R = np.pi / 180.0\n",
        "MJD_OFFSET = 2400000.5\n",
        "\n",
        "\n",
        "#Question 1\n",
        "\n",
        "# Table1 data\n",
        "data = np.array([\n",
        "    [265.3869518, 38.4539569, 19.3547079, 55.5481428, 60055.1340277],\n",
        "    [286.0157158, 47.7809854, 14.2703198, 38.2354388, 60055.1354166],\n",
        "    [306.8358871, 50.4514381, 8.1356679, 25.9457472, 60055.1368055],\n",
        "    [113.1072289, 76.1961378, 40.4709053, 341.8114490, 60055.2104166],\n",
        "    [44.4521793, 71.6883545, 23.6357032, 350.7827597, 60055.2118055],\n",
        "    [27.5410256, 61.8733178, 12.4517325, 355.0101055, 60055.2131944],\n",
        "    [128.5555539, 21.4050426, 10.1299902, 289.4238109, 60055.2854166],\n",
        "    [116.9894450, 32.8319850, 9.4168870, 305.2967884, 60055.2868055],\n",
        "    [102.4669647, 41.0669857, 6.8773277, 319.7464073, 60055.2881944]\n",
        "])\n",
        "\n",
        "# Champaign, Illinois coordinates\n",
        "lat = 40.1164\n",
        "lon = -88.2434\n",
        "elevation = 233\n",
        "\n",
        "# Functions\n",
        "def ecef2eci(pos_ecef, et):\n",
        "    ecef2eci_rot = spice.pxform('IAU_EARTH', 'J2000', et)\n",
        "    return np.dot(ecef2eci_rot, pos_ecef)\n",
        "\n",
        "\n",
        "def topocentric_to_ecef(az, el, slant_range, lat, lon, alt):\n",
        "    # Convert to radians\n",
        "    az_rad = az * D2R\n",
        "    el_rad = el * D2R\n",
        "    lat_rad = lat * D2R\n",
        "    lon_rad = lon * D2R\n",
        "\n",
        "    # Calculate ECEF position\n",
        "    radii = spice.bodvrd('EARTH', 'RADII', 3)[1]\n",
        "    a = radii[0]  # semi-major axis\n",
        "    b = radii[2]  # semi-minor axis\n",
        "    f = (a - b) / a  # Earth's flattening factor\n",
        "\n",
        "    N = a / np.sqrt(1 - (2 * f) + (f ** 2) * (np.sin(lat_rad) ** 2))\n",
        "    x = (N + alt) * np.cos(lat_rad) * np.cos(lon_rad) + slant_range * np.cos(el_rad) * np.cos(az_rad)\n",
        "    y = (N + alt) * np.cos(lat_rad) * np.sin(lon_rad) + slant_range * np.cos(el_rad) * np.sin(az_rad)\n",
        "    z = (N * (1 - f) ** 2 + alt) * np.sin(lat_rad) + slant_range * np.sin(el_rad)\n",
        "\n",
        "    return np.array([x, y, z])\n",
        "\n",
        "\n",
        "def residuals(params, data):\n",
        "    # Unpack parameters\n",
        "    x0, y0, z0, vx0, vy0, vz0 = params\n",
        "\n",
        "    # Calculate residuals\n",
        "    res = []\n",
        "    for row in data:\n",
        "        ra, dec, alt, az, mjd = row\n",
        "        et = (mjd - MJD_OFFSET) * 86400.0\n",
        "        pos_ecef = topocentric_to_ecef(az, alt, elevation, lat, lon, 0)\n",
        "        pos_eci = ecef2eci(pos_ecef, et)\n",
        "        pos_sat = np.array([x0 + vx0 * et, y0 + vy0 * et, z0 + vz0 * et])\n",
        "        delta_pos = pos_sat - pos_eci\n",
        "        delta_ra = np.arctan2(delta_pos[1], delta_pos[0]) * R2D - ra\n",
        "        delta_dec = np.arctan2(delta_pos[2], np.sqrt(delta_pos[0] ** 2 + delta_pos[1] ** 2)) * R2D - dec\n",
        "        res.extend([delta_ra, delta_dec])\n",
        "\n",
        "    return res\n",
        "\n",
        "# Initial guess\n",
        "x0 = [7000, 0, 0, 0, 7.5, 0]\n",
        "\n",
        "# Least squares optimization\n",
        "result = least_squares(residuals, x0, args=(data,), verbose=2)\n",
        "\n",
        "# Print results\n",
        "print(\"\\n\\nBest fit initial state vector (ECI):\")\n",
        "print(\"Position (km):\", result.x[0:3])\n",
        "print(\"Velocity (km/s):\", result.x[3:])\n",
        "\n",
        "eci_position = result.x[0:3]\n",
        "eci_velocity = result.x[3:]\n",
        "average_mjd = np.mean(data[:, 4])\n",
        "epoch_et = (average_mjd - MJD_OFFSET) * 86400.0\n",
        "mu = spice.bodvrd('EARTH', 'GM', 1)[1][0]  # Earth's gravitational constant\n",
        "state_vector = np.hstack((eci_position, eci_velocity))\n",
        "orbital_elements = spice.oscelt(state_vector, epoch_et, mu)\n",
        "\n",
        "print(\"\\n\\nGeocentric orbital elements:\")\n",
        "print(\"Semi-major axis (km):\", orbital_elements[0])\n",
        "print(\"Eccentricity:\", orbital_elements[1])\n",
        "print(\"Inclination (deg):\", np.degrees(orbital_elements[2]))\n",
        "print(\"Longitude of the ascending node (deg):\", np.degrees(orbital_elements[3]))\n",
        "print(\"Argument of periapsis (deg):\", np.degrees(orbital_elements[4]))\n",
        "print(\"True anomaly (deg):\", np.degrees(orbital_elements[5]))\n",
        "print(\"Epoch (ET):\", epoch_et)\n",
        "\n",
        "\n",
        "#Question 2\n",
        "\n",
        "stations_url = 'https://celestrak.com/NORAD/elements/stations.txt'\n",
        "satellites = load.tle_file(stations_url)\n",
        "def orbital_elements_difference(satellite, computed_elements):\n",
        "    sat_elements = [\n",
        "        satellite.model.a * (1 - satellite.model.ecco),  # Semi-major axis\n",
        "        satellite.model.ecco,                            # Eccentricity\n",
        "        satellite.model.inclo,                           # Inclination\n",
        "        satellite.model.nodeo,                           # Longitude of the ascending node\n",
        "        satellite.model.argpo,                           # Argument of periapsis\n",
        "        satellite.model.mo,                              # Mean anomaly\n",
        "    ]\n",
        "\n",
        "    # Calculate the difference between the computed and TLE orbital elements\n",
        "    difference = sum(abs(np.array(sat_elements) - np.array(computed_elements)))\n",
        "\n",
        "    return difference\n",
        "computed_elements = [\n",
        "    orbital_elements[0],\n",
        "    orbital_elements[1],\n",
        "    orbital_elements[2],\n",
        "    orbital_elements[3],\n",
        "    orbital_elements[4],\n",
        "    orbital_elements[5],\n",
        "]\n",
        "\n",
        "min_difference = float('inf')\n",
        "best_match = None\n",
        "\n",
        "for sat in satellites:\n",
        "    difference = orbital_elements_difference(sat, computed_elements)\n",
        "    if difference < min_difference:\n",
        "        min_difference = difference\n",
        "        best_match = sat\n",
        "\n",
        "print(\"\\n\\nBest match satellite:\")\n",
        "print(\"Name:\", best_match.name)\n",
        "print(\"Object ID:\", best_match.model.satnum)\n",
        "print(\"NORAD CAT ID:\", best_match.model.satnum)\n"
      ],
      "metadata": {
        "colab": {
          "base_uri": "https://localhost:8080/"
        },
        "id": "r9yhOjcCl4vq",
        "outputId": "f790446c-93b0-4acd-ce70-81e5432624a4"
      },
      "execution_count": 34,
      "outputs": [
        {
          "output_type": "stream",
          "name": "stdout",
          "text": [
            "   Iteration     Total nfev        Cost      Cost reduction    Step norm     Optimality   \n",
            "       0              1         3.2514e+05                                    1.68e+04    \n",
            "       1              2         3.2454e+05      5.99e+02       7.00e+03       1.80e+01    \n",
            "       2              3         2.9396e+05      3.06e+04       1.75e+03       1.60e+01    \n",
            "       3              4         2.4205e+05      5.19e+04       3.50e+03       1.00e+01    \n",
            "       4              5         1.7137e+05      7.07e+04       7.00e+03       8.10e+00    \n",
            "       5              6         1.0293e+05      6.84e+04       1.40e+04       2.59e+00    \n",
            "       6              7         5.8087e+04      4.48e+04       2.80e+04       7.13e-01    \n",
            "       7              9         4.8779e+04      9.31e+03       1.40e+04       3.58e-01    \n",
            "       8             10         4.5604e+04      3.18e+03       2.80e+04       9.55e-02    \n",
            "       9             11         4.5189e+04      4.15e+02       5.60e+04       2.42e-02    \n",
            "      10             12         4.5101e+04      8.73e+01       1.12e+05       6.09e-03    \n",
            "      11             13         4.5081e+04      2.02e+01       2.24e+05       1.53e-03    \n",
            "      12             14         4.5076e+04      4.88e+00       4.48e+05       3.82e-04    \n",
            "      13             15         4.5075e+04      1.59e+00       8.96e+05       1.49e-05    \n",
            "      14             18         4.5075e+04      1.80e-03       1.12e+05       2.52e-06    \n",
            "      15             19         4.5075e+04      3.27e-05       2.24e+05       1.49e-06    \n",
            "      16             20         4.5075e+04      6.86e-06       5.60e+04       1.23e-07    \n",
            "      17             21         4.5075e+04      6.02e-08       1.40e+04       3.48e-10    \n",
            "`gtol` termination condition is satisfied.\n",
            "Function evaluations 21, initial cost 3.2514e+05, final cost 4.5075e+04, first-order optimality 3.48e-10.\n",
            "\n",
            "\n",
            "Best fit initial state vector (ECI):\n",
            "Position (km): [-8.88567676e+05 -1.21727642e-02  6.94004302e-03]\n",
            "Velocity (km/s): [ 342884.74300876 -162853.61694106 -437954.18830099]\n",
            "\n",
            "\n",
            "Geocentric orbital elements:\n",
            "Semi-major axis (km): 716375.2429471028\n",
            "Eccentricity: 603679589362.923\n",
            "Inclination (deg): 69.60230783576154\n",
            "Longitude of the ascending node (deg): 9.513163725825136e-07\n",
            "Argument of periapsis (deg): 216.2723881832249\n",
            "True anomaly (deg): -25381973319646.348\n",
            "Epoch (ET): -202171272940.00513\n",
            "\n",
            "\n",
            "Best match satellite:\n",
            "Name: FREGAT DEB\n",
            "Object ID: 49271\n",
            "NORAD CAT ID: 49271\n"
          ]
        }
      ]
    }
  ]
}